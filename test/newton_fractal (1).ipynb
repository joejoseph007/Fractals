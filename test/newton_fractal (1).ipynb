{
  "cells": [
    {
      "cell_type": "code",
      "execution_count": 1,
      "metadata": {
        "id": "8gtlqC5sRMWE"
      },
      "outputs": [],
      "source": [
        "import numpy as np\n",
        "import matplotlib.pyplot as plt\n",
        "import time, math\n",
        "import cmath\n",
        "from matplotlib.colors import hsv_to_rgb\n",
        "import matplotlib\n",
        "import sys\n",
        "from numba import jit, cuda, prange, guvectorize, complex128\n",
        "import cv2\n",
        "# np.set_printoptions(precision=3,suppress=True)\n"
      ]
    },
    {
      "cell_type": "code",
      "execution_count": 2,
      "metadata": {
        "id": "3sX3_YgSRMWF"
      },
      "outputs": [],
      "source": [
        "# !python3 -m pip install numba\n",
        "# !git clone https://github.com/numba/numba.git\n",
        "\n",
        "# %cd numba\n",
        "# !python setup.py install\n",
        "# !pip3 install .\n",
        "# %cd ../\n",
        "\n",
        "# !pip install --upgrade https://github.com/numba/numba.git\n",
        "# !pip install git+https://github.com/numba/numba.git#egg=numba\n",
        "\n",
        "# https://github.com/numba/numba.git\n",
        "# git@github.com:numba/numba.git\n",
        "\n",
        "# !pip install numba --upgrade"
      ]
    },
    {
      "cell_type": "code",
      "execution_count": 3,
      "metadata": {
        "id": "qt5Z2o3PRMWG"
      },
      "outputs": [],
      "source": [
        "@jit(nopython=True)\n",
        "def f(x):\n",
        "    # # a,b,c,d=[1,3**0.5,1,1/(3*3**0.5)]\n",
        "    # a,b,c,d,e,f=[1,1,1,1,1,1]    \n",
        "    # return a*x**5+b*x**4+c*x**3+d*x**2+e*x+f\n",
        "    # a,b,c,d,e,f,g,h,i,j,k=[1,1,1,1,1,1,1,1,1,1,1]\n",
        "    # return a*x**10+b*x**9+c*x**8+d*x**7+e*x**6+f*x**5+g*x**4+h*x**3+i*x**2+j*x**1+k*x**0\n",
        "    \n",
        "    coef=[1]*15\n",
        "    eq=0\n",
        "    for i in range(len(coef)):\n",
        "        eq+=coef[i]*x**(len(coef)-i-1)\n",
        "    return eq\n",
        "\n",
        "@jit(nopython=True)\n",
        "def df(x):\n",
        "    # a,b,c,d,e,f=[1,1,1,1,1,1]\n",
        "    # return 5*a*x**4+4*b*x**3+3*c*x**2+2*d*x**1+e\n",
        "    # a,b,c,d,e,f,g,h,i,j,k=[1,1,1,1,1,1,1,1,1,1,1]\n",
        "    # return 10*a*x**9+9*b*x**8+8*c*x**7+7*d*x**6+6*e*x**5+5*f*x**4+4*g*x**3+3*h*x**2+2*i*x**1+j*x**0\n",
        "    \n",
        "    coef=[1]*15\n",
        "    eq=0\n",
        "    for i in range(len(coef)-1):\n",
        "        eq+=coef[i]*(len(coef)-i-1)*x**(len(coef)-i-2)\n",
        "    return eq\n",
        "\n"
      ]
    },
    {
      "cell_type": "code",
      "execution_count": 4,
      "metadata": {
        "id": "W3vFVLBZRMWG"
      },
      "outputs": [],
      "source": [
        "@jit(nopython=True)\n",
        "def NewtonR(x):\n",
        "    for i in range(500):\n",
        "        x=x-f(x)/df(x)\n",
        "        if(abs(f(x)/df(x))<=1e-3):\n",
        "            break\n",
        "    return x"
      ]
    },
    {
      "cell_type": "code",
      "execution_count": 5,
      "metadata": {
        "id": "CKCbrjbhRMWG"
      },
      "outputs": [],
      "source": [
        "@jit(nopython=True)\n",
        "def gradientDecent(x):\n",
        "    lr=0.01\n",
        "    tol=1e-6\n",
        "    for i in range(100):\n",
        "        der=df(x)\n",
        "        x=x-lr*der\n",
        "        if(abs(der*lr)<=tol):\n",
        "            break\n",
        "    return x"
      ]
    },
    {
      "cell_type": "code",
      "execution_count": 6,
      "metadata": {
        "id": "f0q0yc7toRyz"
      },
      "outputs": [],
      "source": [
        "@cuda.jit\n",
        "def get_grid_cuda(Z,coef,lenCoef):\n",
        "    i, j = cuda.grid(2)\n",
        "    if i >=0 and i < Z.shape[0] and j >=0 and j < Z.shape[1]:     \n",
        "        for _ in range(500):\n",
        "            \n",
        "            fx=0\n",
        "            for _i in range(lenCoef):\n",
        "                fx+=coef[_i]*Z[i,j]**(lenCoef-_i-1)\n",
        "\n",
        "            dfx=0\n",
        "            for _i in range(lenCoef-1):\n",
        "                dfx+=coef[_i]*(lenCoef-_i-1)*Z[i,j]**(lenCoef-_i-2)\n",
        "            \n",
        "            # fx=Z[i,j]**3+Z[i,j]**2+Z[i,j]+1\n",
        "            # dfx=3*Z[i,j]**2+2*Z[i,j]+1\n",
        "            div=fx/dfx\n",
        "            Z[i,j]=Z[i,j]-div\n",
        "            if(abs(div)<1e-6):\n",
        "                break"
      ]
    },
    {
      "cell_type": "code",
      "execution_count": 7,
      "metadata": {
        "id": "4lQvWqi6RMWH"
      },
      "outputs": [],
      "source": [
        "# @cuda.jit\n",
        "# # @guvectorize([(complex128[:,:],complex128[:,:])], '()->()', target='cuda')\n",
        "# def get_grid_cuda(Z):\n",
        "#     i, j = cuda.grid(2)\n",
        "#     if i >=0 and i < Z.shape[0] and j >=0 and j < Z.shape[1]:     \n",
        "#         for i in range(10):\n",
        "#             r=abs(Z[i,j])\n",
        "#             exp=math.atan2(Z[i,j].imag,Z[i,j].real)\n",
        "#             Z3=r**3*math.cos(3*exp)+r**3*math.sin(3*exp)*1j\n",
        "#             Z2=r**2*math.cos(2*exp)+r**2*math.sin(2*exp)*1j\n",
        "#             fx=Z3+Z2+Z[i,j]+1\n",
        "#             dfx=3*Z2+2*Z[i,j]+1\n",
        "            \n",
        "#             div=((fx.real*dfx.real+fx.imag*dfx.imag)+1j*(fx.imag*dfx.real-fx.real*dfx.imag))/abs(dfx)**2\n",
        "            \n",
        "#             # if(abs(div)<1e-3):\n",
        "#             #     break\n",
        "#             Z[i,j]=Z[i,j]-div\n"
      ]
    },
    {
      "cell_type": "code",
      "execution_count": 8,
      "metadata": {
        "id": "xOpGRIEWRMWH"
      },
      "outputs": [],
      "source": [
        "@jit(nopython=True, parallel=True)\n",
        "def get_grid(Z):\n",
        "    for i in prange(len(Z)):\n",
        "        for j in prange(len(Z[0])):\n",
        "            Z[i,j]=NewtonR(Z[i,j])\n",
        "    return Z"
      ]
    },
    {
      "cell_type": "code",
      "execution_count": 9,
      "metadata": {
        "id": "jaMuPqJERMWH"
      },
      "outputs": [],
      "source": [
        "@jit(nopython=True, parallel=True)\n",
        "def get_grid_GD(Z):\n",
        "    for i in prange(len(Z)):\n",
        "        for j in prange(len(Z[0])):\n",
        "            Z[i,j]=gradientDecent(Z[i,j])\n",
        "    return Z"
      ]
    },
    {
      "cell_type": "code",
      "execution_count": null,
      "metadata": {
        "id": "qu3ZN4J4RMWI"
      },
      "outputs": [],
      "source": [
        "N=2**14\n",
        "lim=1.15\n",
        "limj=1.15j\n",
        "\n",
        "x=np.linspace(-lim,lim,N,dtype=complex)\n",
        "xj=np.linspace(-limj,limj,N,dtype=complex)\n",
        "xx,yy=np.meshgrid(x,xj)\n",
        "X=xx+yy\n",
        "# Z=f(X)\n",
        "# plt.contourf(X.real,X.imag,Z,levels=30)\n",
        "# plt.show()\n",
        "# plt.close()\n",
        "\n",
        "\n",
        "# Z=np.copy(X)\n",
        "# Z_out=np.copy(X)\n",
        "\n",
        "# threadsperblock = (4, 4)\n",
        "# blockspergrid_x = math.ceil(Z.shape[0] / threadsperblock[0])\n",
        "# blockspergrid_y = math.ceil(Z.shape[1] / threadsperblock[1])\n",
        "# blockspergrid = (blockspergrid_x, blockspergrid_y)\n",
        "\n",
        "# start = time.time()\n",
        "# # get_grid_cuda[blockspergrid, threadsperblock](Z)\n",
        "# get_grid_cuda[blockspergrid, threadsperblock](Z)\n",
        "\n",
        "# print(\"Time taken:\",time.time() - start)\n",
        "\n",
        "# plt.contourf(X.real,X.imag,Z,levels=30)\n",
        "# plt.show()\n",
        "# plt.close()\n",
        "\n",
        "# roundOff=1\n",
        "# minima=np.unique(Z.round(roundOff))\n",
        "# print(minima)\n",
        "# print(len(minima))\n",
        "\n",
        "# i=1\n",
        "# j=1\n",
        "# r=(Z[i,j].real**2+Z[i,j].imag**2)**0.5\n",
        "# exp=math.atan2(Z[i,j].imag,Z[i,j].real)\n",
        "# Z3=r**3*math.cos(3*exp)+r**3*math.sin(3*exp)*1j\n",
        "# Z2=r**2*math.cos(2*exp)+r**2*math.sin(2*exp)*1j\n",
        "# Z1=r**1*math.cos(1*exp)+r**1*math.sin(1*exp)*1j\n",
        "\n",
        "# fx=Z3+Z2+Z[i,j]+1\n",
        "# dfx=3*Z2+2*Z[i,j]+1\n",
        "# print(r)\n",
        "# print(exp)\n",
        "# print(Z3)\n",
        "# print(Z2)\n",
        "# print(Z1)\n",
        "# print(Z[i,j])\n",
        "# print(\"fx\",fx)\n",
        "# print(\"dxf\",dfx)\n",
        "\n",
        "# print(\"fx/dxf\",fx/dfx)\n",
        "# div=((fx.real*dfx.real+fx.imag*dfx.imag)+1j*(fx.imag*dfx.real-fx.real*dfx.imag))/(dfx.real**2+dfx.imag**2)\n",
        "# print(\"div\",div)\n",
        "# print(abs(dfx))\n",
        "# print((dfx.real**2+dfx.imag**2)**0.5)\n",
        "  \n",
        "# sys.exit()\n",
        "\n",
        "Z=np.copy(X)\n",
        "\n",
        "start = time.time()\n",
        "Z=get_grid(Z)\n",
        "print(\"Time taken:\",time.time() - start)\n",
        "\n",
        "# plt.contourf(X.real,X.imag,Z,levels=30)\n",
        "# plt.show()\n",
        "# plt.close()\n",
        "\n",
        "\n",
        "roundOff=1\n",
        "minima=np.unique(Z.round(roundOff))\n",
        "print(minima)\n",
        "print(len(minima))\n",
        "\n",
        "Img=np.zeros((Z.shape[0],Z.shape[1],3)).astype(np.uint8)\n",
        "# cmap = matplotlib.cm.get_cmap('viridis')\n",
        "cmap = matplotlib.cm.get_cmap('inferno')\n",
        "\n",
        "for i in  range(len(minima)):\n",
        "    # indx=np.argwhere(Val.round(3)==minima[i])\n",
        "    indx=np.argwhere(np.flip(Z,0).round(roundOff)==minima[i])\n",
        "    rgba = cmap(i/(len(minima)-1))\n",
        "    Img[indx[:,0],indx[:,1],:]=np.array(rgba[:-1])*255\n",
        "\n",
        "for i in  range(len(minima)):   \n",
        "    print(int((minima[i].real+lim)*N),int((minima[i].imag+abs(limj))*N))\n",
        "    x,y=int((minima[i].real+lim)/(2*lim)*N),int((minima[i].imag+abs(limj))/(2*abs(limj))*N)    \n",
        "    Img = cv2.circle(Img, (x,y), radius=0, color=(255, 255, 255), thickness=-1)\n",
        "\n",
        "Img = cv2.circle(Img, (N//2,N//2), radius=0, color=(255, 255, 255), thickness=-1)\n",
        "\n",
        "# plt.imshow(Img)\n",
        "# plt.gca().set_aspect('equal')\n",
        "cv2.imwrite('Fractal.png',cv2.cvtColor(Img, cv2.COLOR_RGB2BGR))\n",
        "# plt.show()\n",
        "# plt.close()\n",
        "\n"
      ]
    },
    {
      "cell_type": "code",
      "execution_count": null,
      "metadata": {
        "id": "waRBdQDqRMWJ"
      },
      "outputs": [],
      "source": []
    },
    {
      "cell_type": "code",
      "execution_count": null,
      "metadata": {
        "id": "agoiGX4uRMWJ"
      },
      "outputs": [],
      "source": []
    }
  ],
  "metadata": {
    "colab": {
      "collapsed_sections": [],
      "name": "newton_fractal.ipynb",
      "provenance": []
    },
    "interpreter": {
      "hash": "9246bd749edd3bf3f5875472a236a86bf04e98439c2dc8e7121f49352864a355"
    },
    "kernelspec": {
      "display_name": "Python 3.7.9 64-bit ('base': conda)",
      "name": "python3"
    },
    "language_info": {
      "codemirror_mode": {
        "name": "ipython",
        "version": 3
      },
      "file_extension": ".py",
      "mimetype": "text/x-python",
      "name": "python",
      "nbconvert_exporter": "python",
      "pygments_lexer": "ipython3",
      "version": "3.7.9"
    },
    "orig_nbformat": 4
  },
  "nbformat": 4,
  "nbformat_minor": 0
}
