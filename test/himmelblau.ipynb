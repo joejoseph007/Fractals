{
  "cells": [
    {
      "cell_type": "code",
      "execution_count": 1,
      "metadata": {
        "id": "pXwzJ7whBw_b"
      },
      "outputs": [],
      "source": [
        "import numpy as np\n",
        "import matplotlib.pyplot as plt\n",
        "import time, math\n",
        "from matplotlib.colors import hsv_to_rgb\n",
        "import matplotlib\n",
        "\n",
        "from numba import jit, cuda, prange\n",
        "import cv2\n"
      ]
    },
    {
      "cell_type": "code",
      "execution_count": 2,
      "metadata": {
        "colab": {
          "base_uri": "https://localhost:8080/"
        },
        "id": "2GmCSL8ABw_d",
        "outputId": "0f709506-34c0-475e-aa98-5b4c8b51d8ff"
      },
      "outputs": [
        {
          "name": "stdout",
          "output_type": "stream",
          "text": [
            "<Managed Device 0>\n",
            "Fri Nov 12 12:27:58 2021       \n",
            "+-----------------------------------------------------------------------------+\n",
            "| NVIDIA-SMI 472.12       Driver Version: 472.12       CUDA Version: 11.4     |\n",
            "|-------------------------------+----------------------+----------------------+\n",
            "| GPU  Name            TCC/WDDM | Bus-Id        Disp.A | Volatile Uncorr. ECC |\n",
            "| Fan  Temp  Perf  Pwr:Usage/Cap|         Memory-Usage | GPU-Util  Compute M. |\n",
            "|                               |                      |               MIG M. |\n",
            "|===============================+======================+======================|\n",
            "|   0  NVIDIA GeForce ... WDDM  | 00000000:02:00.0 Off |                  N/A |\n",
            "| N/A   47C    P8    N/A /  N/A |     68MiB /  4096MiB |      1%      Default |\n",
            "|                               |                      |                  N/A |\n",
            "+-------------------------------+----------------------+----------------------+\n",
            "                                                                               \n",
            "+-----------------------------------------------------------------------------+\n",
            "| Processes:                                                                  |\n",
            "|  GPU   GI   CI        PID   Type   Process name                  GPU Memory |\n",
            "|        ID   ID                                                   Usage      |\n",
            "|=============================================================================|\n",
            "|    0   N/A  N/A     19372      C   ...ejo\\Miniconda3\\python.exe    N/A      |\n",
            "+-----------------------------------------------------------------------------+\n"
          ]
        }
      ],
      "source": [
        "print(cuda.gpus)\n",
        "!nvidia-smi"
      ]
    },
    {
      "cell_type": "code",
      "execution_count": 3,
      "metadata": {
        "id": "8Jy6czRjBw_f"
      },
      "outputs": [],
      "source": [
        "@jit(nopython=True)\n",
        "def f(x):\n",
        "    return (x[0]**2+x[1]-11)**2+(x[0]+x[1]**2-7)**2\n",
        "\n",
        "@jit(nopython=True)\n",
        "def df(x):\n",
        "    dfx1=2*(x[0]**2+x[1]-11)*(2*x[0])+2*(x[0]+x[1]**2-7)*(1)\n",
        "    dfx2=2*(x[0]**2+x[1]-11)*(1)+2*(x[0]+x[1]**2-7)*(2*x[1])\n",
        "    return np.array([dfx1,dfx2])"
      ]
    },
    {
      "cell_type": "code",
      "execution_count": 4,
      "metadata": {
        "id": "7NFW8O1vBw_f"
      },
      "outputs": [],
      "source": [
        "@jit(nopython=True)\n",
        "def gradientDecent(x):\n",
        "    lr=0.01\n",
        "    tol=1e-10\n",
        "    for i in range(100):\n",
        "        der=df(x)\n",
        "        x=x-lr*der\n",
        "        if(np.all(np.abs(der*lr)<=tol)):\n",
        "            break\n",
        "    return x"
      ]
    },
    {
      "cell_type": "code",
      "execution_count": 5,
      "metadata": {
        "id": "Yo2EN4ddBw_g"
      },
      "outputs": [],
      "source": [
        "@cuda.jit\n",
        "def get_grid_cuda(Z):\n",
        "    lr=0.01\n",
        "    tol=1e-10\n",
        "    i, j = cuda.grid(2)\n",
        "    if i >=0 and i < Z.shape[0] and j >=0 and j < Z.shape[1]:\n",
        "        x = Z[i,j,:]\n",
        "        for i in range(100):\n",
        "            dfx1=2*(x[0]**2+x[1]-11)*(2*x[0])+2*(x[0]+x[1]**2-7)*(1)\n",
        "            dfx2=2*(x[0]**2+x[1]-11)*(1)+2*(x[0]+x[1]**2-7)*(2*x[1])\n",
        "            x[0]=x[0]-lr*dfx1\n",
        "            x[1]=x[1]-lr*dfx2\n",
        "            # if(abs(dfx1*lr)<=tol and abs(dfx2*lr)<=tol):\n",
        "            #     break\n",
        "        Z[i, j, 0] = x[0]\n",
        "        Z[i, j, 1] = x[1]\n",
        "          "
      ]
    },
    {
      "cell_type": "code",
      "execution_count": 6,
      "metadata": {
        "id": "cUE-SggyBw_g"
      },
      "outputs": [],
      "source": [
        "@jit(nopython=True, parallel=True)\n",
        "def get_grid(Z):\n",
        "    for i in prange(len(Z)):\n",
        "        for j in prange(len(Z[0])):\n",
        "            Z[i,j,:]=gradientDecent(Z[i,j,:])\n",
        "    return Z"
      ]
    },
    {
      "cell_type": "code",
      "execution_count": 7,
      "metadata": {
        "id": "R_F_tsapBw_h"
      },
      "outputs": [],
      "source": [
        "def normalize(x):\n",
        "    return (x-np.min(x))/(np.max(x)-np.min(x))"
      ]
    },
    {
      "cell_type": "code",
      "execution_count": 9,
      "metadata": {
        "colab": {
          "base_uri": "https://localhost:8080/",
          "height": 303
        },
        "id": "tSqUI7JnBw_i",
        "outputId": "68c11ca6-cf72-4eaa-df1b-ae6d31e10e95"
      },
      "outputs": [
        {
          "name": "stdout",
          "output_type": "stream",
          "text": [
            "Time taken: 0.16156768798828125\n",
            "[-4. -3.  3.  4.]\n"
          ]
        },
        {
          "data": {
            "image/png": "[encoded data removed]",
            "text/plain": [
              "<Figure size 640x480 with 1 Axes>"
            ]
          },
          "metadata": {},
          "output_type": "display_data"
        }
      ],
      "source": [
        "N=16384\n",
        "N=12288\n",
        "N=8192\n",
        "N=4096\n",
        "N=256\n",
        "N=41\n",
        "x=np.linspace(-5,5,N)\n",
        "xx,yy=np.meshgrid(x,x)\n",
        "z=f([xx,yy])\n",
        "# dy1,dy2=df([xx,yy])\n",
        "# plt.contourf(xx,yy,z,levels=50)\n",
        "# plt.imshow(np.flip(z,0))\n",
        "# plt.gca().set_aspect('equal')\n",
        "# plt.show()\n",
        "# plt.close()\n",
        "\n",
        "# x=gradientDecent(np.array([0.,0.]))\n",
        "# Z=np.zeros((N,N,2))\n",
        "\n",
        "# Z=np.stack([xx,yy],axis=-1)\n",
        "# start = time.time()\n",
        "# Z=get_grid(Z)\n",
        "# print(\"Time taken:\",time.time() - start)\n",
        "\n",
        "Z=np.stack([xx,yy],axis=-1)\n",
        "threadsperblock = (16, 16)\n",
        "blockspergrid_x = math.ceil(Z.shape[0] / threadsperblock[0])\n",
        "blockspergrid_y = math.ceil(Z.shape[1] / threadsperblock[1])\n",
        "blockspergrid = (blockspergrid_x, blockspergrid_y)\n",
        "\n",
        "start = time.time()\n",
        "get_grid_cuda[blockspergrid, threadsperblock](Z)\n",
        "print(\"Time taken:\",time.time() - start)\n",
        "\n",
        "Val=np.flip(Z[:,:,0]**2+Z[:,:,1]**2,0)\n",
        "# Val=(normalize(Val)+normalize(np.flip(z,0)))/2\n",
        "\n",
        "roundOff=0\n",
        "# minima=np.unique(Val.round(roundOff))\n",
        "minimaX=np.unique(Z[:,:,0].round(roundOff))\n",
        "# minimaY=np.unique(Z[:,:,1].round(roundOff))\n",
        "\n",
        "print(minimaX)\n",
        "# print(minimaY)\n",
        "\n",
        "Img=np.zeros((Val.shape[0],Val.shape[1],3)).astype(np.uint8)\n",
        "cmap = matplotlib.cm.get_cmap('inferno')\n",
        "# print(minima)\n",
        "for i in  range(len(minimaX)):\n",
        "    # indx=np.argwhere(Val.round(3)==minima[i])\n",
        "    indx=np.argwhere(np.flip(Z[:,:,0],0).round(roundOff)==minimaX[i])\n",
        "    \n",
        "    rgba = cmap(i/(len(minimaX)-1))\n",
        "    Img[indx[:,0],indx[:,1],:]=np.array(rgba[:-1])*255\n",
        "    \n",
        "plt.imshow(Img)\n",
        "plt.gca().set_aspect('equal')\n",
        "plt.savefig(\"fig.png\",dpi=600)\n",
        "# cv2.imwrite('fig.png',cv2.cvtColor(Img, cv2.COLOR_RGB2BGR))\n",
        "plt.show()\n",
        "plt.close()\n"
      ]
    },
    {
      "cell_type": "code",
      "execution_count": null,
      "metadata": {
        "id": "ly639UozBw_j"
      },
      "outputs": [],
      "source": [
        "# minimaX=np.unique(Z[:,:,0].round(5))\n",
        "# minimaY=np.unique(Z[:,:,1].round(5))\n",
        "# print(minimaX)\n",
        "# print(minimaY)\n",
        "\n",
        "# indx=np.argwhere(Z[:,:,0].round(5)==minimaX[0]) #and np.argwhere(Z[:,:,1].round(5)==minimaY[0])\n",
        "# print(indx[0])\n",
        "# indx=np.argwhere(Z[:,:,1].round(5)==minimaY[0])\n",
        "# print(indx[0])\n",
        "\n",
        "minima=np.unique(Val.round(5))\n",
        "Img=np.zeros((Val.shape[0],Val.shape[1],3)).astype(np.uint8)\n",
        "cmap = matplotlib.cm.get_cmap('viridis')\n",
        "for i in  range(len(minima)):\n",
        "    indx=np.argwhere(Val.round(5)==minima[i])\n",
        "    rgba = cmap(i/(len(minima)-1))\n",
        "    Img[indx[:,0],indx[:,1],:]=np.array(rgba[:-1])*255\n",
        "    \n",
        "\n",
        "plt.imshow(Img)\n",
        "plt.gca().set_aspect('equal')\n",
        "# cv2.imwrite('fig.png',(Val*255).astype(np.uint8))\n",
        "plt.show()\n",
        "plt.close()\n",
        "\n",
        "# print(arr)\n"
      ]
    },
    {
      "cell_type": "code",
      "execution_count": null,
      "metadata": {
        "id": "M6vzqqsgBw_k"
      },
      "outputs": [],
      "source": []
    }
  ],
  "metadata": {
    "accelerator": "GPU",
    "colab": {
      "collapsed_sections": [],
      "name": "himmelblau.ipynb",
      "provenance": []
    },
    "interpreter": {
      "hash": "9246bd749edd3bf3f5875472a236a86bf04e98439c2dc8e7121f49352864a355"
    },
    "kernelspec": {
      "display_name": "Python 3.7.9 64-bit ('base': conda)",
      "name": "python3"
    },
    "language_info": {
      "codemirror_mode": {
        "name": "ipython",
        "version": 3
      },
      "file_extension": ".py",
      "mimetype": "text/x-python",
      "name": "python",
      "nbconvert_exporter": "python",
      "pygments_lexer": "ipython3",
      "version": "3.7.9"
    },
    "orig_nbformat": 4
  },
  "nbformat": 4,
  "nbformat_minor": 0
}
